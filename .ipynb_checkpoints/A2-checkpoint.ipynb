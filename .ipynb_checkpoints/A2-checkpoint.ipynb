{
 "cells": [
  {
   "cell_type": "code",
   "execution_count": 1,
   "id": "14d72bba",
   "metadata": {},
   "outputs": [
    {
     "name": "stdout",
     "output_type": "stream",
     "text": [
      "Collecting ibm-watson>=5.3.0\n",
      "  Downloading ibm-watson-5.3.1.tar.gz (413 kB)\n",
      "  Installing build dependencies: started\n",
      "  Installing build dependencies: finished with status 'done'\n",
      "  Getting requirements to build wheel: started\n",
      "  Getting requirements to build wheel: finished with status 'done'\n",
      "    Preparing wheel metadata: started\n",
      "    Preparing wheel metadata: finished with status 'done'\n",
      "Requirement already satisfied: requests<3.0,>=2.0 in c:\\users\\victo\\anaconda3\\lib\\site-packages (from ibm-watson>=5.3.0) (2.26.0)\n",
      "Collecting websocket-client==1.1.0\n",
      "  Downloading websocket_client-1.1.0-py2.py3-none-any.whl (68 kB)\n",
      "Requirement already satisfied: python-dateutil>=2.5.3 in c:\\users\\victo\\anaconda3\\lib\\site-packages (from ibm-watson>=5.3.0) (2.8.2)\n",
      "Collecting ibm-cloud-sdk-core==3.*,>=3.3.6\n",
      "  Downloading ibm_cloud_sdk_core-3.15.0-py3-none-any.whl (83 kB)\n",
      "Requirement already satisfied: urllib3<2.0.0,>=1.26.0 in c:\\users\\victo\\anaconda3\\lib\\site-packages (from ibm-cloud-sdk-core==3.*,>=3.3.6->ibm-watson>=5.3.0) (1.26.7)\n",
      "Requirement already satisfied: PyJWT<3.0.0,>=2.0.1 in c:\\users\\victo\\anaconda3\\lib\\site-packages (from ibm-cloud-sdk-core==3.*,>=3.3.6->ibm-watson>=5.3.0) (2.1.0)\n",
      "Requirement already satisfied: six>=1.5 in c:\\users\\victo\\anaconda3\\lib\\site-packages (from python-dateutil>=2.5.3->ibm-watson>=5.3.0) (1.16.0)\n",
      "Requirement already satisfied: certifi>=2017.4.17 in c:\\users\\victo\\anaconda3\\lib\\site-packages (from requests<3.0,>=2.0->ibm-watson>=5.3.0) (2021.10.8)\n",
      "Requirement already satisfied: charset-normalizer~=2.0.0 in c:\\users\\victo\\anaconda3\\lib\\site-packages (from requests<3.0,>=2.0->ibm-watson>=5.3.0) (2.0.4)\n",
      "Requirement already satisfied: idna<4,>=2.5 in c:\\users\\victo\\anaconda3\\lib\\site-packages (from requests<3.0,>=2.0->ibm-watson>=5.3.0) (3.2)\n",
      "Building wheels for collected packages: ibm-watson\n",
      "  Building wheel for ibm-watson (PEP 517): started\n",
      "  Building wheel for ibm-watson (PEP 517): finished with status 'done'\n",
      "  Created wheel for ibm-watson: filename=ibm_watson-5.3.1-py3-none-any.whl size=409192 sha256=558c088becadfedeb9c7940aa5f41efa79649e2bc368a4998f9e45433c5cf166\n",
      "  Stored in directory: c:\\users\\victo\\appdata\\local\\pip\\cache\\wheels\\3d\\26\\bb\\2962387956504cac2f0016b86d4bcb0c350c7e8d3aad3c932a\n",
      "Successfully built ibm-watson\n",
      "Installing collected packages: websocket-client, ibm-cloud-sdk-core, ibm-watson\n",
      "Successfully installed ibm-cloud-sdk-core-3.15.0 ibm-watson-5.3.1 websocket-client-1.1.0\n",
      "Note: you may need to restart the kernel to use updated packages.\n"
     ]
    }
   ],
   "source": [
    "pip install --upgrade \"ibm-watson>=5.3.0\""
   ]
  },
  {
   "cell_type": "code",
   "execution_count": 10,
   "id": "afdd3dc1",
   "metadata": {
    "scrolled": true
   },
   "outputs": [
    {
     "name": "stdout",
     "output_type": "stream",
     "text": [
      "{\n",
      "  \"usage\": {\n",
      "    \"text_units\": 1,\n",
      "    \"text_characters\": 130,\n",
      "    \"features\": 1\n",
      "  },\n",
      "  \"language\": \"en\",\n",
      "  \"emotion\": {\n",
      "    \"targets\": [\n",
      "      {\n",
      "        \"text\": \"Apples\",\n",
      "        \"emotion\": {\n",
      "          \"sadness\": 0.053758,\n",
      "          \"joy\": 0.764825,\n",
      "          \"fear\": 0.026453,\n",
      "          \"disgust\": 0.011598,\n",
      "          \"anger\": 0.051262\n",
      "        }\n",
      "      },\n",
      "      {\n",
      "        \"text\": \"Oranges\",\n",
      "        \"emotion\": {\n",
      "          \"sadness\": 0.110088,\n",
      "          \"joy\": 0.453645,\n",
      "          \"fear\": 0.036064,\n",
      "          \"disgust\": 0.012911,\n",
      "          \"anger\": 0.061039\n",
      "        }\n",
      "      }\n",
      "    ],\n",
      "    \"document\": {\n",
      "      \"emotion\": {\n",
      "        \"sadness\": 0.110088,\n",
      "        \"joy\": 0.453645,\n",
      "        \"fear\": 0.036064,\n",
      "        \"disgust\": 0.012911,\n",
      "        \"anger\": 0.061039\n",
      "      }\n",
      "    }\n",
      "  }\n",
      "}\n"
     ]
    }
   ],
   "source": [
    "import json\n",
    "from ibm_watson import NaturalLanguageUnderstandingV1\n",
    "from ibm_cloud_sdk_core.authenticators import IAMAuthenticator\n",
    "from ibm_watson.natural_language_understanding_v1 import Features, EmotionOptions\n",
    "\n",
    "##import my own IBM API key \n",
    "authenticator = IAMAuthenticator('J9LwVHP0MV-s4D2o_xERk9nbT_RtzmpLRB1rIN_jlARP')\n",
    "natural_language_understanding = NaturalLanguageUnderstandingV1(\n",
    "    version='2021-08-01',\n",
    "    authenticator=authenticator\n",
    ")\n",
    "\n",
    "## input my own IBM url\n",
    "natural_language_understanding.set_service_url('https://api.us-south.natural-language-understanding.watson.cloud.ibm.com/instances/dff2b405-2203-4935-959c-ab8a088d74da')\n",
    "\n",
    "response = natural_language_understanding.analyze(\n",
    "    text=\"<html><head><title>Fruits</title></head><body><h1>Apples and Oranges</h1><p>I love apples! I don't like oranges.</p></body></html>\",\n",
    "    features=Features(emotion=EmotionOptions(targets=['apples','oranges']))).get_result()\n",
    "\n",
    "print(json.dumps(response, indent=2))"
   ]
  },
  {
   "cell_type": "code",
   "execution_count": 31,
   "id": "aec9dace",
   "metadata": {},
   "outputs": [
    {
     "ename": "ApiException",
     "evalue": "Error: Have to specify either training_data or model, Code: 400 , X-global-transaction-id: c560ebda-ab8c-4cda-95fb-a7bc1c797445",
     "output_type": "error",
     "traceback": [
      "\u001b[1;31m---------------------------------------------------------------------------\u001b[0m",
      "\u001b[1;31mApiException\u001b[0m                              Traceback (most recent call last)",
      "\u001b[1;32m~\\AppData\\Local\\Temp/ipykernel_26320/1810117879.py\u001b[0m in \u001b[0;36m<module>\u001b[1;34m\u001b[0m\n\u001b[0;32m     17\u001b[0m with open(join('./.', 'negtest.csv'),\n\u001b[0;32m     18\u001b[0m               'rb') as file:\n\u001b[1;32m---> 19\u001b[1;33m     model= natural_language_understanding.create_sentiment_model(\n\u001b[0m\u001b[0;32m     20\u001b[0m         \u001b[0mlanguage\u001b[0m\u001b[1;33m=\u001b[0m\u001b[1;34m'en'\u001b[0m\u001b[1;33m,\u001b[0m\u001b[1;33m\u001b[0m\u001b[1;33m\u001b[0m\u001b[0m\n\u001b[0;32m     21\u001b[0m         \u001b[0mtraining_data\u001b[0m\u001b[1;33m=\u001b[0m\u001b[1;34m\"negtest.csv\"\u001b[0m\u001b[1;33m,\u001b[0m\u001b[1;33m\u001b[0m\u001b[1;33m\u001b[0m\u001b[0m\n",
      "\u001b[1;32m~\\anaconda3\\lib\\site-packages\\ibm_watson\\natural_language_understanding_v1.py\u001b[0m in \u001b[0;36mcreate_sentiment_model\u001b[1;34m(self, language, training_data, name, description, model_version, workspace_id, version_description, **kwargs)\u001b[0m\n\u001b[0;32m    341\u001b[0m                                        files=form_data)\n\u001b[0;32m    342\u001b[0m \u001b[1;33m\u001b[0m\u001b[0m\n\u001b[1;32m--> 343\u001b[1;33m         \u001b[0mresponse\u001b[0m \u001b[1;33m=\u001b[0m \u001b[0mself\u001b[0m\u001b[1;33m.\u001b[0m\u001b[0msend\u001b[0m\u001b[1;33m(\u001b[0m\u001b[0mrequest\u001b[0m\u001b[1;33m,\u001b[0m \u001b[1;33m**\u001b[0m\u001b[0mkwargs\u001b[0m\u001b[1;33m)\u001b[0m\u001b[1;33m\u001b[0m\u001b[1;33m\u001b[0m\u001b[0m\n\u001b[0m\u001b[0;32m    344\u001b[0m         \u001b[1;32mreturn\u001b[0m \u001b[0mresponse\u001b[0m\u001b[1;33m\u001b[0m\u001b[1;33m\u001b[0m\u001b[0m\n\u001b[0;32m    345\u001b[0m \u001b[1;33m\u001b[0m\u001b[0m\n",
      "\u001b[1;32m~\\anaconda3\\lib\\site-packages\\ibm_cloud_sdk_core\\base_service.py\u001b[0m in \u001b[0;36msend\u001b[1;34m(self, request, **kwargs)\u001b[0m\n\u001b[0;32m    322\u001b[0m                                         status_code=response.status_code)\n\u001b[0;32m    323\u001b[0m \u001b[1;33m\u001b[0m\u001b[0m\n\u001b[1;32m--> 324\u001b[1;33m             \u001b[1;32mraise\u001b[0m \u001b[0mApiException\u001b[0m\u001b[1;33m(\u001b[0m\u001b[0mresponse\u001b[0m\u001b[1;33m.\u001b[0m\u001b[0mstatus_code\u001b[0m\u001b[1;33m,\u001b[0m \u001b[0mhttp_response\u001b[0m\u001b[1;33m=\u001b[0m\u001b[0mresponse\u001b[0m\u001b[1;33m)\u001b[0m\u001b[1;33m\u001b[0m\u001b[1;33m\u001b[0m\u001b[0m\n\u001b[0m\u001b[0;32m    325\u001b[0m         \u001b[1;32mexcept\u001b[0m \u001b[0mrequests\u001b[0m\u001b[1;33m.\u001b[0m\u001b[0mexceptions\u001b[0m\u001b[1;33m.\u001b[0m\u001b[0mSSLError\u001b[0m\u001b[1;33m:\u001b[0m\u001b[1;33m\u001b[0m\u001b[1;33m\u001b[0m\u001b[0m\n\u001b[0;32m    326\u001b[0m             \u001b[0mlogger\u001b[0m\u001b[1;33m.\u001b[0m\u001b[0mexception\u001b[0m\u001b[1;33m(\u001b[0m\u001b[0mself\u001b[0m\u001b[1;33m.\u001b[0m\u001b[0mERROR_MSG_DISABLE_SSL\u001b[0m\u001b[1;33m)\u001b[0m\u001b[1;33m\u001b[0m\u001b[1;33m\u001b[0m\u001b[0m\n",
      "\u001b[1;31mApiException\u001b[0m: Error: Have to specify either training_data or model, Code: 400 , X-global-transaction-id: c560ebda-ab8c-4cda-95fb-a7bc1c797445"
     ]
    }
   ],
   "source": [
    "from os.path import join, dirname\n",
    "from ibm_watson import NaturalLanguageUnderstandingV1\n",
    "from ibm_cloud_sdk_core.authenticators import IAMAuthenticator\n",
    "\n",
    "authenticator = IAMAuthenticator('J9LwVHP0MV-s4D2o_xERk9nbT_RtzmpLRB1rIN_jlARP')\n",
    "natural_language_understanding = NaturalLanguageUnderstandingV1(\n",
    "    version='2021-03-25',\n",
    "    authenticator=authenticator\n",
    ")\n",
    "\n",
    "natural_language_understanding.set_service_url('https://api.us-south.natural-language-understanding.watson.cloud.ibm.com/instances/dff2b405-2203-4935-959c-ab8a088d74da')\n",
    "\n",
    "\n",
    "## original code\n",
    "#with open(join(dirname(__file__), './.', 'negtest.csv'),\n",
    "# test code\n",
    "with open(join('./.', 'negtest.csv'),\n",
    "              'rb') as file:\n",
    "    model= natural_language_understanding.create_sentiment_model(\n",
    "        language='en',\n",
    "        training_data=\"negtest.csv\",\n",
    "        name='MySentimentModel',\n",
    "        model_version='1.0.1',\n",
    "    ).get_result()\n",
    "    print(json.dumps(model, indent=2))"
   ]
  },
  {
   "cell_type": "code",
   "execution_count": null,
   "id": "c45dd27b",
   "metadata": {},
   "outputs": [],
   "source": []
  }
 ],
 "metadata": {
  "kernelspec": {
   "display_name": "Python 3 (ipykernel)",
   "language": "python",
   "name": "python3"
  },
  "language_info": {
   "codemirror_mode": {
    "name": "ipython",
    "version": 3
   },
   "file_extension": ".py",
   "mimetype": "text/x-python",
   "name": "python",
   "nbconvert_exporter": "python",
   "pygments_lexer": "ipython3",
   "version": "3.9.7"
  }
 },
 "nbformat": 4,
 "nbformat_minor": 5
}
